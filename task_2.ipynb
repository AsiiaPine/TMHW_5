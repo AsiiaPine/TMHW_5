{
 "cells": [
  {
   "cell_type": "code",
   "execution_count": 1,
   "metadata": {
    "collapsed": true,
    "pycharm": {
     "name": "#%%\n"
    }
   },
   "outputs": [],
   "source": [
    "import IPython.display\n",
    "import sympy as sp\n",
    "from sympy.vector import CoordSys3D\n",
    "import numpy as np\n",
    "import matplotlib.pyplot as plt\n",
    "from matplotlib.animation import FuncAnimation\n",
    "from sympy import init_printing,latex\n",
    "sp.init_printing(use_latex=True)"
   ]
  },
  {
   "cell_type": "markdown",
   "source": [
    "![alt text](Task_2.png \"Task_2.png\")"
   ],
   "metadata": {
    "collapsed": false,
    "pycharm": {
     "name": "#%% md\n"
    }
   }
  },
  {
   "cell_type": "markdown",
   "source": [
    "# RO:\n",
    "The system consists of two bodies: A (cylinder with a hollow tube) and M - particle\n",
    "# Motion:\n",
    "M - translatory motion\n",
    "A - rotation\n",
    "\n",
    "# Condition:\n",
    "I want to describe the motion, where the new coordinate system is:\n",
    "$\\begin{bmatrix} x \\\\\n",
    "                  y\\\\\n",
    "                  x\n",
    "  \\end{bmatrix} =\n",
    "  R_\\phi \\begin{bmatrix}\n",
    "                  x_1\\\\\n",
    "                  y_1\\\\\n",
    "                  z_1\n",
    "  \\end{bmatrix}$\n",
    "\n",
    "$$ \\begin{matrix}\n",
    "    initial & '2' & final\\\\\n",
    "    y_0 = 0 & y_2 = r & y_f - ? \\\\\n",
    "    \\dot{y_0} = 0.4 & \\dot{y_2} - ? & \\dot{y_f} - ?\\\\\n",
    "    t_0 = 0 & t_2 - ? & t_f - ? \\end{matrix} $$\n",
    "# Kinematics analysis:\n",
    "$\\epsilon = 0$\n",
    "$$ \\vec{a}_{tr} = \\vec{\\omega} \\times (\\vec{\\omega} \\times \\vec{OM}) + \\vec{\\epsilon} \\times \\vec{OM} = \\vec{\\omega} \\times (\\vec{\\omega} \\times \\vec{OM})$$\n",
    "$$ \\vec{a}_{cor} = 2 \\vec{\\omega} \\times \\vec{V}_{rel}$$\n",
    "\n",
    "# Force analysis:\n",
    "$$ma_{rel} = \\sum{F} + \\Phi_{tr} + \\Phi_{cor}$$\n",
    "There is no friction between M and A, so the $\\sum{F} = \\vec{N} + m\\vec{g}$.\n",
    "$\\Phi_{tr} = -m\\vec{a}_{tr}$\n",
    "$\\Phi_{cor} = -m\\vec{a}_{cor}$\n",
    "\n",
    "# Solution:\n",
    "$$ma_{rel} = \\vec{N} + m\\vec{g} -m\\vec{a}_{tr} + -m\\vec{a}_{cor} $$\n"
   ],
   "metadata": {
    "collapsed": false,
    "pycharm": {
     "name": "#%% md\n"
    }
   }
  },
  {
   "cell_type": "markdown",
   "source": [
    "Set initial conditions and constants"
   ],
   "metadata": {
    "collapsed": false,
    "pycharm": {
     "name": "#%% md\n"
    }
   }
  },
  {
   "cell_type": "code",
   "execution_count": 2,
   "outputs": [],
   "source": [
    "# constants\n",
    "r = 0.5\n",
    "m = 0.02\n",
    "omega = [[np.pi], [0], [0]]\n",
    "\n",
    "# initial conditions\n",
    "t_0 = 0\n",
    "x_0 = 0\n",
    "dx_0 = 0.4\n",
    "phi_0 = [[0], [0], [0]]"
   ],
   "metadata": {
    "collapsed": false,
    "pycharm": {
     "name": "#%%\n"
    }
   }
  },
  {
   "cell_type": "code",
   "execution_count": 1,
   "outputs": [
    {
     "ename": "NameError",
     "evalue": "name 'sp' is not defined",
     "output_type": "error",
     "traceback": [
      "\u001B[0;31m---------------------------------------------------------------------------\u001B[0m",
      "\u001B[0;31mNameError\u001B[0m                                 Traceback (most recent call last)",
      "Cell \u001B[0;32mIn [1], line 2\u001B[0m\n\u001B[1;32m      1\u001B[0m \u001B[38;5;66;03m# init symbols for parameters\u001B[39;00m\n\u001B[0;32m----> 2\u001B[0m t_s, dy_s, m_s, r_s, omega_s \u001B[38;5;241m=\u001B[39m sp\u001B[38;5;241m.\u001B[39msymbols(\u001B[38;5;124m\"\u001B[39m\u001B[38;5;124mt, y\u001B[39m\u001B[38;5;124m'\u001B[39m\u001B[38;5;124m, m, r, omega\u001B[39m\u001B[38;5;124m\"\u001B[39m)\n\u001B[1;32m      3\u001B[0m y \u001B[38;5;241m=\u001B[39m sp\u001B[38;5;241m.\u001B[39msymbols(\u001B[38;5;124m'\u001B[39m\u001B[38;5;124my\u001B[39m\u001B[38;5;124m'\u001B[39m, \u001B[38;5;28mcls\u001B[39m\u001B[38;5;241m=\u001B[39msp\u001B[38;5;241m.\u001B[39mFunction)\n",
      "\u001B[0;31mNameError\u001B[0m: name 'sp' is not defined"
     ]
    }
   ],
   "source": [
    "# init symbols for parameters\n",
    "t_s, dy_s, m_s, r_s, omega_s = sp.symbols(\"t, y', m, r, omega\")\n",
    "y = sp.symbols('y', cls=sp.Function)"
   ],
   "metadata": {
    "collapsed": false,
    "pycharm": {
     "name": "#%%\n"
    }
   }
  },
  {
   "cell_type": "markdown",
   "source": [
    "## Kinematics solution:\n",
    "\n",
    "### Set the coordinates of point M and O\n",
    "There are two coordinate systems:\n",
    "Transport\n",
    "\n",
    "$ M_{tr} (0, 0, x)$\n",
    "\n",
    "Static\n",
    "$ M = R_\\phi M_{tr}$"
   ],
   "metadata": {
    "collapsed": false,
    "pycharm": {
     "name": "#%% md\n"
    }
   }
  },
  {
   "cell_type": "code",
   "execution_count": 16,
   "outputs": [
    {
     "name": "stdout",
     "output_type": "stream",
     "text": [
      "Matrix([[pi], [0], [0]])\n",
      "Coordinates of point M is static coordinate system: [0, y*cos(Matrix([\n",
      "[pi*t],\n",
      "[   0],\n",
      "[   0]])), y*sin(Matrix([\n",
      "[pi*t],\n",
      "[   0],\n",
      "[   0]]))]\n"
     ]
    }
   ],
   "source": [
    "phi_s = omega_s * t_s\n",
    "\n",
    "print(omega_s)\n",
    "M_tr = sp.Matrix([[0], [y_s], [0]])\n",
    "\n",
    "rot_matrix = sp.Matrix([[1, 0, 0],\n",
    "                        [0, sp.cos(phi_s), -sp.sin(phi_s)],\n",
    "                        [0, sp.sin(phi_s), sp.cos(phi_s)]])\n",
    "\n",
    "M = rot_matrix * M_tr\n",
    "print(f'Coordinates of point M is static coordinate system: {M[:]}')"
   ],
   "metadata": {
    "collapsed": false,
    "pycharm": {
     "name": "#%%\n"
    }
   }
  },
  {
   "cell_type": "markdown",
   "source": [
    "### Find Velocity of the point M:\n",
    "$V = V_{rel} + V_{tr} = \\dot \\vec{x} + \\vec{\\omega} \\times \\vec{OM}$"
   ],
   "metadata": {
    "collapsed": false,
    "pycharm": {
     "name": "#%% md\n"
    }
   }
  },
  {
   "cell_type": "code",
   "execution_count": 5,
   "outputs": [
    {
     "name": "stdout",
     "output_type": "stream",
     "text": [
      "Relative velocity in transport coord system: Vm rel= [0, y', 0]\n",
      "Full velocity: Vm = [0, -pi*y*sin(omega*t) + y'*cos(omega*t), pi*y*cos(omega*t) + y'*sin(omega*t)]\n"
     ]
    }
   ],
   "source": [
    "# relative velocity of the point M in the coord system of the body A\n",
    "v_rel_trans_coord_sys = sp.Matrix([[0], [dy_s], [0]])\n",
    "print(f'Relative velocity in transport coord system: Vm rel= {v_rel_trans_coord_sys[:]}')\n",
    "\n",
    "# relative velocity of the point M in static coord system\n",
    "v_rel_s = rot_matrix * v_rel_trans_coord_sys\n",
    "# transport velocity\n",
    "OM = M\n",
    "omega_s = sp.Matrix([[sp.pi], [0], [0]])\n",
    "v_tr_s = omega_s.cross(OM)\n",
    "\n",
    "# full velocity\n",
    "v_s = v_tr_s + v_rel_s\n",
    "\n",
    "print(f'Full velocity: Vm = {v_s[:]}')"
   ],
   "metadata": {
    "collapsed": false,
    "pycharm": {
     "name": "#%%\n"
    }
   }
  },
  {
   "cell_type": "markdown",
   "source": [
    "### Find transport and coriolis acceleration of the point M:\n",
    "$$ \\vec{a}_{tr} =  \\vec{\\omega} \\times (\\vec{\\omega} \\times \\vec{OM})$$\n",
    "$$ \\vec{a}_{cor} = 2 \\vec{\\omega} \\times \\vec{V}_{rel}$$"
   ],
   "metadata": {
    "collapsed": false,
    "pycharm": {
     "name": "#%% md\n"
    }
   }
  },
  {
   "cell_type": "code",
   "execution_count": 10,
   "outputs": [
    {
     "name": "stdout",
     "output_type": "stream",
     "text": [
      "Coriolis acceleration: a_cor=[0, -2*pi*y'*sin(omega*t), 2*pi*y'*cos(omega*t)]\n",
      "Transport acceleration: a_tr=[0, -pi**2*y*cos(omega*t), -pi**2*y*sin(omega*t)]\n"
     ]
    }
   ],
   "source": [
    "a_tr_s = omega_s.cross(omega_s.cross(OM))\n",
    "a_cor_s = 2 * omega_s.cross(v_rel_s)\n",
    "\n",
    "\n",
    "\n",
    "print(f'Coriolis acceleration: a_cor={a_cor_s[:]}')\n",
    "print(f'Transport acceleration: a_tr={a_tr_s[:]}')"
   ],
   "metadata": {
    "collapsed": false,
    "pycharm": {
     "name": "#%%\n"
    }
   }
  },
  {
   "cell_type": "markdown",
   "source": [
    "P:"
   ],
   "metadata": {
    "collapsed": false,
    "pycharm": {
     "name": "#%% md\n"
    }
   }
  },
  {
   "cell_type": "code",
   "execution_count": 11,
   "outputs": [
    {
     "name": "stdout",
     "output_type": "stream",
     "text": [
      "Weight of M in static coordinate system: P = Matrix([[0], [0], [0.196000000000000]])\n",
      "Weight of M in coordinate system of body A: P = Matrix([[0], [-0.196*sin(omega*t)], [0.196*cos(omega*t)]])\n"
     ]
    }
   ],
   "source": [
    "g_s = sp.Matrix([[0], [0], [9.8]])\n",
    "P = m * g_s\n",
    "P_A_cs = rot_matrix * P\n",
    "print(f'Weight of M in static coordinate system: P = {P}')\n",
    "print(f'Weight of M in coordinate system of body A: P = {P_A_cs}')"
   ],
   "metadata": {
    "collapsed": false,
    "pycharm": {
     "name": "#%%\n"
    }
   }
  },
  {
   "cell_type": "markdown",
   "source": [
    "### Let's calculate the vectors and projections on axis Ox for all forces:\n",
    "N:"
   ],
   "metadata": {
    "collapsed": false,
    "pycharm": {
     "name": "#%% md\n"
    }
   }
  },
  {
   "cell_type": "code",
   "execution_count": 12,
   "outputs": [
    {
     "name": "stdout",
     "output_type": "stream",
     "text": [
      "Normal reaction force in static coordinate system: N = Matrix([[0], [-0.196*sin(omega*t)*cos(omega*t)], [0.196*cos(omega*t)**2]])\n",
      "Normal reaction force in coordinate system of body A: N = Matrix([[0], [0], [0.196*cos(omega*t)]])\n"
     ]
    }
   ],
   "source": [
    "P_magnitude = sp.sqrt(P[0] ** 2 + P[1] ** 2 + P[2] ** 2)\n",
    "\n",
    "# normal reaction force in static coord system\n",
    "normal_reaction_force = sp.cos(phi_s) * P_A_cs\n",
    "\n",
    "normal_reaction_force_x = sp.Matrix([[0],[0],[P_A_cs[2]]])\n",
    "print(f'Normal reaction force in static coordinate system: N = {normal_reaction_force}')\n",
    "print(f'Normal reaction force in coordinate system of body A: N = {normal_reaction_force_x}')"
   ],
   "metadata": {
    "collapsed": false,
    "pycharm": {
     "name": "#%%\n"
    }
   }
  },
  {
   "cell_type": "markdown",
   "source": [
    "$$y: \\ddot y = - a_{tr}_y - a_{cor} + g* sin(\\phi)$$\n",
    "$$y: \\ddot y = y \\pi^2  sin(\\omega t) cos(\\omega t) + g* sin(\\omega t)$$\n",
    "\n",
    "\n",
    "\n",
    "Laplace transform:\n",
    "$$ L(\\ddot y) = s^2 \\overline{y} - s y(0) - \\dot y(0)$$\n",
    "$$ L(y) = \\overline{y} $$\n",
    "\n",
    "$$L(\\pi^2  sin(\\omega t) cos(\\omega t))  = \\pi^2 * \\frac{\\omega}{s^2 + \\omega ^2} * \\frac{s}{s^2 + \\omega ^2}$$\n",
    "$$ L(g* sin(\\omega t)) = g * \\frac{\\omega}{s^2 + \\omega ^2} $$\n",
    "\n",
    "\n",
    "$$ \\begin{cases} s^2 \\overline{y} - \\overline{y} * \\pi^2 * \\frac{\\omega}{s^2 + \\omega ^2} * \\frac{s}{s^2 + \\omega ^2} - sy(0) -\\dot y(0) =  g * \\frac{\\omega}{s^2 + \\omega ^2} \\\\\n",
    " \\dot y (0) = 0.4 \\\\\n",
    " y(0)= 0 \\end{cases}$$"
   ],
   "metadata": {
    "collapsed": false,
    "pycharm": {
     "name": "#%% md\n"
    }
   }
  },
  {
   "cell_type": "markdown",
   "source": [
    "$$ \\overline{y} (s^2 - \\pi^2 * \\frac{\\omega}{s^2 + \\omega ^2} * \\frac{s}{s^2 + \\omega ^2} )- s * 0 - 0.4 = g * \\frac{\\omega}{s^2 + \\omega ^2} $$\n",
    "$$\\overline{y} =\\frac{ g * \\frac{\\omega}{s^2 + \\omega ^2}  + 0.4}{(s^2 - \\pi^2 * \\frac{\\omega}{s^2 + \\omega ^2} * \\frac{s}{s^2 + \\omega ^2} )}$$"
   ],
   "metadata": {
    "collapsed": false,
    "pycharm": {
     "name": "#%% md\n"
    }
   }
  },
  {
   "cell_type": "markdown",
   "source": [
    "$$ \\overline{y} = \\frac{g*\\omega}{s^2 (s^2 + \\omega^2) -\\pi^2*\\omega * s } + 0.4 * \\frac{s^2 + \\omega^2}{s^2 * (s^2 + \\omega^2) - \\pi^2 * \\omega * s}$$"
   ],
   "metadata": {
    "collapsed": false,
    "pycharm": {
     "name": "#%% md\n"
    }
   }
  },
  {
   "cell_type": "markdown",
   "source": [
    "$$ \\overline{y} ="
   ],
   "metadata": {
    "collapsed": false,
    "pycharm": {
     "name": "#%% md\n"
    }
   }
  },
  {
   "cell_type": "code",
   "execution_count": 15,
   "outputs": [
    {
     "data": {
      "text/latex": "$\\displaystyle \\begin{cases} \\frac{\\pi^{2} y \\sin{\\left(\\omega r \\right)}}{\\omega} - \\frac{2 \\pi y' \\cos{\\left(\\omega r \\right)}}{\\omega} + \\frac{2 \\pi y'}{\\omega} + \\frac{0.196 \\cos{\\left(\\omega r \\right)}}{\\omega} - \\frac{0.196}{\\omega} & \\text{for}\\: \\omega > -\\infty \\wedge \\omega < \\infty \\wedge \\omega \\neq 0 \\\\\\pi^{2} r y & \\text{otherwise} \\end{cases}$"
     },
     "metadata": {},
     "output_type": "display_data"
    }
   ],
   "source": [
    "ddy = -a_tr_s[1] - a_cor_s[1] + P_A_cs[1]\n",
    "\n",
    "dy = sp.integrals.integrate(ddy, t_s)\n",
    "y = sp.integrals.integrate(ddy, (t_s, 0, r_s))\n",
    "\n",
    "IPython.display.display_latex(y)"
   ],
   "metadata": {
    "collapsed": false,
    "pycharm": {
     "name": "#%%\n"
    }
   }
  },
  {
   "cell_type": "code",
   "execution_count": null,
   "outputs": [],
   "source": [],
   "metadata": {
    "collapsed": false,
    "pycharm": {
     "name": "#%%\n"
    }
   }
  }
 ],
 "metadata": {
  "kernelspec": {
   "display_name": "Python 3",
   "language": "python",
   "name": "python3"
  },
  "language_info": {
   "codemirror_mode": {
    "name": "ipython",
    "version": 2
   },
   "file_extension": ".py",
   "mimetype": "text/x-python",
   "name": "python",
   "nbconvert_exporter": "python",
   "pygments_lexer": "ipython2",
   "version": "2.7.6"
  }
 },
 "nbformat": 4,
 "nbformat_minor": 0
}